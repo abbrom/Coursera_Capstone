{
    "nbformat_minor": 1, 
    "cells": [
        {
            "source": "# Import libraries", 
            "cell_type": "markdown", 
            "metadata": {
                "collapsed": true
            }
        }, 
        {
            "execution_count": 227, 
            "cell_type": "code", 
            "metadata": {}, 
            "outputs": [], 
            "source": "from bs4 import BeautifulSoup\nimport requests\nimport pandas as pd\nimport numpy as np"
        }, 
        {
            "source": "# Website Scraping", 
            "cell_type": "markdown", 
            "metadata": {}
        }, 
        {
            "source": "## Set up URL and download the web page", 
            "cell_type": "markdown", 
            "metadata": {}
        }, 
        {
            "execution_count": 228, 
            "cell_type": "code", 
            "metadata": {}, 
            "outputs": [], 
            "source": "url = 'https://en.wikipedia.org/wiki/List_of_postal_codes_of_Canada:_M'\nsource = requests.get(url).text"
        }, 
        {
            "source": "## Get a file handler for an output .csv file", 
            "cell_type": "markdown", 
            "metadata": {}
        }, 
        {
            "execution_count": 229, 
            "cell_type": "code", 
            "metadata": {}, 
            "outputs": [], 
            "source": "filename = \"toronto-FSA.csv\"\nf = open(filename, 'w')"
        }, 
        {
            "source": "## Initialize a BeautifulSoup object", 
            "cell_type": "markdown", 
            "metadata": {}
        }, 
        {
            "execution_count": 230, 
            "cell_type": "code", 
            "metadata": {}, 
            "outputs": [], 
            "source": "soup = BeautifulSoup(source, 'lxml')\n"
        }, 
        {
            "source": "## Get the major article (Toronto FSA table)", 
            "cell_type": "markdown", 
            "metadata": {}
        }, 
        {
            "execution_count": 231, 
            "cell_type": "code", 
            "metadata": {}, 
            "outputs": [], 
            "source": "article = soup.find('div', class_=\"mw-parser-output\")\n\ntable = article.table"
        }, 
        {
            "source": "## Get the entry points for using at  rows and features/columns extracting", 
            "cell_type": "markdown", 
            "metadata": {}
        }, 
        {
            "execution_count": 232, 
            "cell_type": "code", 
            "metadata": {}, 
            "outputs": [], 
            "source": "rows = table.tbody.find_all(\"tr\")\n\nfeatures = rows[0].find_all('th')"
        }, 
        {
            "source": "## .csv file header (first line of file which contains features' name/ID)", 
            "cell_type": "markdown", 
            "metadata": {}
        }, 
        {
            "execution_count": 233, 
            "cell_type": "code", 
            "metadata": {}, 
            "outputs": [], 
            "source": "headers = \"\""
        }, 
        {
            "source": "## Extracting features", 
            "cell_type": "markdown", 
            "metadata": {}
        }, 
        {
            "execution_count": 234, 
            "cell_type": "code", 
            "metadata": {}, 
            "outputs": [], 
            "source": "for feature in features:\n    headers = headers + feature.text + \",\"\n\n# A comma is not required at the end of each line/row\nheaders = headers[:-1]"
        }, 
        {
            "source": "## Writing features to .csv file", 
            "cell_type": "markdown", 
            "metadata": {}
        }, 
        {
            "execution_count": 235, 
            "cell_type": "code", 
            "metadata": {}, 
            "outputs": [
                {
                    "execution_count": 235, 
                    "metadata": {}, 
                    "data": {
                        "text/plain": "31"
                    }, 
                    "output_type": "execute_result"
                }
            ], 
            "source": "f.write(headers)"
        }, 
        {
            "source": "## Extracting rows/cells and writing to .csv file", 
            "cell_type": "markdown", 
            "metadata": {}
        }, 
        {
            "execution_count": 236, 
            "cell_type": "code", 
            "metadata": {}, 
            "outputs": [], 
            "source": "for row in rows:\n    cells = row.find_all('td')\n    row_buff = \"\"\n    for cell in cells:\n        row_buff = row_buff + cell.text + ','\n\n    # A comma is not required at the end of each line/row\n    row_buff = row_buff[:-1]\n    f.write(row_buff)"
        }, 
        {
            "source": "## Close the .csv file", 
            "cell_type": "markdown", 
            "metadata": {}
        }, 
        {
            "execution_count": 237, 
            "cell_type": "code", 
            "metadata": {}, 
            "outputs": [], 
            "source": "f.close()"
        }, 
        {
            "source": "# Read in the .csv file and store in Data Frame", 
            "cell_type": "markdown", 
            "metadata": {}
        }, 
        {
            "execution_count": 238, 
            "cell_type": "code", 
            "metadata": {}, 
            "outputs": [], 
            "source": "import numpy as np"
        }, 
        {
            "execution_count": 239, 
            "cell_type": "code", 
            "metadata": {}, 
            "outputs": [
                {
                    "execution_count": 239, 
                    "metadata": {}, 
                    "data": {
                        "text/html": "<div>\n<style scoped>\n    .dataframe tbody tr th:only-of-type {\n        vertical-align: middle;\n    }\n\n    .dataframe tbody tr th {\n        vertical-align: top;\n    }\n\n    .dataframe thead th {\n        text-align: right;\n    }\n</style>\n<table border=\"1\" class=\"dataframe\">\n  <thead>\n    <tr style=\"text-align: right;\">\n      <th></th>\n      <th>Postcode</th>\n      <th>Borough</th>\n      <th>Neighbourhood</th>\n    </tr>\n  </thead>\n  <tbody>\n    <tr>\n      <th>0</th>\n      <td>M1A</td>\n      <td>Not assigned</td>\n      <td>Not assigned</td>\n    </tr>\n    <tr>\n      <th>1</th>\n      <td>M2A</td>\n      <td>Not assigned</td>\n      <td>Not assigned</td>\n    </tr>\n    <tr>\n      <th>2</th>\n      <td>M3A</td>\n      <td>North York</td>\n      <td>Parkwoods</td>\n    </tr>\n    <tr>\n      <th>3</th>\n      <td>M4A</td>\n      <td>North York</td>\n      <td>Victoria Village</td>\n    </tr>\n    <tr>\n      <th>4</th>\n      <td>M5A</td>\n      <td>Downtown Toronto</td>\n      <td>Harbourfront</td>\n    </tr>\n  </tbody>\n</table>\n</div>", 
                        "text/plain": "  Postcode           Borough     Neighbourhood\n0      M1A      Not assigned      Not assigned\n1      M2A      Not assigned      Not assigned\n2      M3A        North York         Parkwoods\n3      M4A        North York  Victoria Village\n4      M5A  Downtown Toronto      Harbourfront"
                    }, 
                    "output_type": "execute_result"
                }
            ], 
            "source": "df_toronto = pd.read_csv(\"toronto-FSA.csv\")\ndf_toronto.head()"
        }, 
        {
            "execution_count": 240, 
            "cell_type": "code", 
            "metadata": {}, 
            "outputs": [
                {
                    "execution_count": 240, 
                    "metadata": {}, 
                    "data": {
                        "text/plain": "(289, 3)"
                    }, 
                    "output_type": "execute_result"
                }
            ], 
            "source": "df_toronto.shape"
        }, 
        {
            "source": "# Data Cleaning", 
            "cell_type": "markdown", 
            "metadata": {}
        }, 
        {
            "source": "## Define droping masks", 
            "cell_type": "markdown", 
            "metadata": {}
        }, 
        {
            "execution_count": 241, 
            "cell_type": "code", 
            "metadata": {}, 
            "outputs": [], 
            "source": "borough_mask = df_toronto.index[df_toronto['Borough'] == 'Not assigned']\nneighborhood_mask = df_toronto.index[df_toronto['Neighbourhood'] == 'Not assigned']\nneighborhood_and_borough_mask = borough_mask & neighborhood_mask"
        }, 
        {
            "source": "## Print out the statistics before cleaning", 
            "cell_type": "markdown", 
            "metadata": {}
        }, 
        {
            "execution_count": 242, 
            "cell_type": "code", 
            "metadata": {
                "scrolled": true
            }, 
            "outputs": [
                {
                    "output_type": "stream", 
                    "name": "stdout", 
                    "text": "Statistics before cleaning:\n\n  180 Postal codes\n  11 Boroughs\n  210 Neighborhoods\n  77 rows with Not assigned Borough\n  78 rows with Not assigned Neighborhood\n  77 rows with Not assigned Neighborhood and Borough \n\nThe DataFrame shape is (289, 3) \n\n"
                }
            ], 
            "source": "print('Statistics before cleaning:\\n')\nprint('  {} Postal codes'.format(df_toronto['Postcode'].unique().shape[0]))\nprint('  {} Boroughs'.format(df_toronto['Borough'].unique().shape[0] - 1))\nprint('  {} Neighborhoods'.format(df_toronto['Neighbourhood'].unique().shape[0]))\nprint('  {} rows with Not assigned Borough'.format(borough_mask.shape[0]))\nprint('  {} rows with Not assigned Neighborhood'.format(neighborhood_mask.shape[0]))\nprint('  {} rows with Not assigned Neighborhood and Borough'.format(neighborhood_and_borough_mask.shape[0]),'\\n')\n\nprint('The DataFrame shape is {}'.format(df_toronto.shape),'\\n')"
        }, 
        {
            "source": "## Dropping rows with \"Not assigned\" at \"Borough\" column", 
            "cell_type": "markdown", 
            "metadata": {}
        }, 
        {
            "execution_count": 243, 
            "cell_type": "code", 
            "metadata": {}, 
            "outputs": [
                {
                    "output_type": "stream", 
                    "name": "stdout", 
                    "text": "(212, 3)\n"
                }, 
                {
                    "execution_count": 243, 
                    "metadata": {}, 
                    "data": {
                        "text/html": "<div>\n<style scoped>\n    .dataframe tbody tr th:only-of-type {\n        vertical-align: middle;\n    }\n\n    .dataframe tbody tr th {\n        vertical-align: top;\n    }\n\n    .dataframe thead th {\n        text-align: right;\n    }\n</style>\n<table border=\"1\" class=\"dataframe\">\n  <thead>\n    <tr style=\"text-align: right;\">\n      <th></th>\n      <th>Postcode</th>\n      <th>Borough</th>\n      <th>Neighbourhood</th>\n    </tr>\n  </thead>\n  <tbody>\n    <tr>\n      <th>0</th>\n      <td>M3A</td>\n      <td>North York</td>\n      <td>Parkwoods</td>\n    </tr>\n    <tr>\n      <th>1</th>\n      <td>M4A</td>\n      <td>North York</td>\n      <td>Victoria Village</td>\n    </tr>\n    <tr>\n      <th>2</th>\n      <td>M5A</td>\n      <td>Downtown Toronto</td>\n      <td>Harbourfront</td>\n    </tr>\n    <tr>\n      <th>3</th>\n      <td>M5A</td>\n      <td>Downtown Toronto</td>\n      <td>Regent Park</td>\n    </tr>\n    <tr>\n      <th>4</th>\n      <td>M6A</td>\n      <td>North York</td>\n      <td>Lawrence Heights</td>\n    </tr>\n    <tr>\n      <th>5</th>\n      <td>M6A</td>\n      <td>North York</td>\n      <td>Lawrence Manor</td>\n    </tr>\n    <tr>\n      <th>6</th>\n      <td>M7A</td>\n      <td>Queen's Park</td>\n      <td>Not assigned</td>\n    </tr>\n    <tr>\n      <th>7</th>\n      <td>M9A</td>\n      <td>Etobicoke</td>\n      <td>Islington Avenue</td>\n    </tr>\n    <tr>\n      <th>8</th>\n      <td>M1B</td>\n      <td>Scarborough</td>\n      <td>Rouge</td>\n    </tr>\n    <tr>\n      <th>9</th>\n      <td>M1B</td>\n      <td>Scarborough</td>\n      <td>Malvern</td>\n    </tr>\n  </tbody>\n</table>\n</div>", 
                        "text/plain": "  Postcode           Borough     Neighbourhood\n0      M3A        North York         Parkwoods\n1      M4A        North York  Victoria Village\n2      M5A  Downtown Toronto      Harbourfront\n3      M5A  Downtown Toronto       Regent Park\n4      M6A        North York  Lawrence Heights\n5      M6A        North York    Lawrence Manor\n6      M7A      Queen's Park      Not assigned\n7      M9A         Etobicoke  Islington Avenue\n8      M1B       Scarborough             Rouge\n9      M1B       Scarborough           Malvern"
                    }, 
                    "output_type": "execute_result"
                }
            ], 
            "source": "df_toronto.drop(df_toronto.index[borough_mask], inplace=True)\ndf_toronto.reset_index(drop=True, inplace=True)\nprint(df_toronto.shape)\ndf_toronto.head(10)"
        }, 
        {
            "source": "## Replace \"Not assigned\" values in the \"Neighborhood\" column with the \"Borough\" name in that cell", 
            "cell_type": "markdown", 
            "metadata": {}
        }, 
        {
            "execution_count": 244, 
            "cell_type": "code", 
            "metadata": {}, 
            "outputs": [], 
            "source": "# Rerun this because the indexes on the dataframe where reset\nneighborhood_mask = df_toronto.index[df_toronto['Neighbourhood'] == 'Not assigned']"
        }, 
        {
            "execution_count": 245, 
            "cell_type": "code", 
            "metadata": {}, 
            "outputs": [
                {
                    "output_type": "stream", 
                    "name": "stdout", 
                    "text": "(212, 3)\n"
                }, 
                {
                    "execution_count": 245, 
                    "metadata": {}, 
                    "data": {
                        "text/html": "<div>\n<style scoped>\n    .dataframe tbody tr th:only-of-type {\n        vertical-align: middle;\n    }\n\n    .dataframe tbody tr th {\n        vertical-align: top;\n    }\n\n    .dataframe thead th {\n        text-align: right;\n    }\n</style>\n<table border=\"1\" class=\"dataframe\">\n  <thead>\n    <tr style=\"text-align: right;\">\n      <th></th>\n      <th>Postcode</th>\n      <th>Borough</th>\n      <th>Neighbourhood</th>\n    </tr>\n  </thead>\n  <tbody>\n    <tr>\n      <th>0</th>\n      <td>M3A</td>\n      <td>North York</td>\n      <td>Parkwoods</td>\n    </tr>\n    <tr>\n      <th>1</th>\n      <td>M4A</td>\n      <td>North York</td>\n      <td>Victoria Village</td>\n    </tr>\n    <tr>\n      <th>2</th>\n      <td>M5A</td>\n      <td>Downtown Toronto</td>\n      <td>Harbourfront</td>\n    </tr>\n    <tr>\n      <th>3</th>\n      <td>M5A</td>\n      <td>Downtown Toronto</td>\n      <td>Regent Park</td>\n    </tr>\n    <tr>\n      <th>4</th>\n      <td>M6A</td>\n      <td>North York</td>\n      <td>Lawrence Heights</td>\n    </tr>\n    <tr>\n      <th>5</th>\n      <td>M6A</td>\n      <td>North York</td>\n      <td>Lawrence Manor</td>\n    </tr>\n    <tr>\n      <th>6</th>\n      <td>M7A</td>\n      <td>Queen's Park</td>\n      <td>Queen's Park</td>\n    </tr>\n    <tr>\n      <th>7</th>\n      <td>M9A</td>\n      <td>Etobicoke</td>\n      <td>Islington Avenue</td>\n    </tr>\n    <tr>\n      <th>8</th>\n      <td>M1B</td>\n      <td>Scarborough</td>\n      <td>Rouge</td>\n    </tr>\n    <tr>\n      <th>9</th>\n      <td>M1B</td>\n      <td>Scarborough</td>\n      <td>Malvern</td>\n    </tr>\n  </tbody>\n</table>\n</div>", 
                        "text/plain": "  Postcode           Borough     Neighbourhood\n0      M3A        North York         Parkwoods\n1      M4A        North York  Victoria Village\n2      M5A  Downtown Toronto      Harbourfront\n3      M5A  Downtown Toronto       Regent Park\n4      M6A        North York  Lawrence Heights\n5      M6A        North York    Lawrence Manor\n6      M7A      Queen's Park      Queen's Park\n7      M9A         Etobicoke  Islington Avenue\n8      M1B       Scarborough             Rouge\n9      M1B       Scarborough           Malvern"
                    }, 
                    "output_type": "execute_result"
                }
            ], 
            "source": "for idx in neighborhood_mask:\n    df_toronto['Neighbourhood'][idx] = df_toronto['Borough'][idx]\nprint(df_toronto.shape)   \ndf_toronto.head(10)"
        }, 
        {
            "source": "## Print out the statistics after cleaning", 
            "cell_type": "markdown", 
            "metadata": {}
        }, 
        {
            "execution_count": 246, 
            "cell_type": "code", 
            "metadata": {}, 
            "outputs": [
                {
                    "output_type": "stream", 
                    "name": "stdout", 
                    "text": "Statistics after cleaning:\n\n  103 Postal codes\n  11 Boroughs\n  210 Neighborhoods\n  0 rows with Not assigned Borough\n  0 rows with Not assigned Neighborhood\n  0 rows with Not assigned Neighborhood and Borough \n\nThe DataFrame shape is (212, 3) \n\n"
                }
            ], 
            "source": "borough_mask = df_toronto.index[df_toronto['Borough'] == 'Not assigned']\nneighborhood_mask = df_toronto.index[df_toronto['Neighbourhood'] == 'Not assigned']\nneighborhood_and_borough_mask = borough_mask & neighborhood_mask\n\nprint('Statistics after cleaning:\\n')\nprint('  {} Postal codes'.format(df_toronto['Postcode'].unique().shape[0]))\nprint('  {} Boroughs'.format(df_toronto['Borough'].unique().shape[0]))\nprint('  {} Neighborhoods'.format(df_toronto['Neighbourhood'].unique().shape[0]))\nprint('  {} rows with Not assigned Borough'.format(borough_mask.shape[0]))\nprint('  {} rows with Not assigned Neighborhood'.format(neighborhood_mask.shape[0]))\nprint('  {} rows with Not assigned Neighborhood and Borough'.format(neighborhood_and_borough_mask.shape[0]),'\\n')\n\nprint('The DataFrame shape is {}'.format(df_toronto.shape),'\\n')"
        }, 
        {
            "source": "##  Group by the 'Postcode' column and consolidate the content in 'Neighbourhood' cells", 
            "cell_type": "markdown", 
            "metadata": {}
        }, 
        {
            "execution_count": 247, 
            "cell_type": "code", 
            "metadata": {}, 
            "outputs": [
                {
                    "execution_count": 247, 
                    "metadata": {}, 
                    "data": {
                        "text/html": "<div>\n<style scoped>\n    .dataframe tbody tr th:only-of-type {\n        vertical-align: middle;\n    }\n\n    .dataframe tbody tr th {\n        vertical-align: top;\n    }\n\n    .dataframe thead th {\n        text-align: right;\n    }\n</style>\n<table border=\"1\" class=\"dataframe\">\n  <thead>\n    <tr style=\"text-align: right;\">\n      <th></th>\n      <th>Postcode</th>\n      <th>Borough</th>\n      <th>Neighbourhood</th>\n    </tr>\n  </thead>\n  <tbody>\n    <tr>\n      <th>0</th>\n      <td>M1B</td>\n      <td>Scarborough</td>\n      <td>Rouge, Malvern</td>\n    </tr>\n    <tr>\n      <th>1</th>\n      <td>M1C</td>\n      <td>Scarborough</td>\n      <td>Highland Creek, Rouge Hill, Port Union</td>\n    </tr>\n    <tr>\n      <th>2</th>\n      <td>M1E</td>\n      <td>Scarborough</td>\n      <td>Guildwood, Morningside, West Hill</td>\n    </tr>\n    <tr>\n      <th>3</th>\n      <td>M1G</td>\n      <td>Scarborough</td>\n      <td>Woburn</td>\n    </tr>\n    <tr>\n      <th>4</th>\n      <td>M1H</td>\n      <td>Scarborough</td>\n      <td>Cedarbrae</td>\n    </tr>\n    <tr>\n      <th>5</th>\n      <td>M1J</td>\n      <td>Scarborough</td>\n      <td>Scarborough Village</td>\n    </tr>\n    <tr>\n      <th>6</th>\n      <td>M1K</td>\n      <td>Scarborough</td>\n      <td>East Birchmount Park, Ionview, Kennedy Park</td>\n    </tr>\n    <tr>\n      <th>7</th>\n      <td>M1L</td>\n      <td>Scarborough</td>\n      <td>Clairlea, Golden Mile, Oakridge</td>\n    </tr>\n    <tr>\n      <th>8</th>\n      <td>M1M</td>\n      <td>Scarborough</td>\n      <td>Cliffcrest, Cliffside, Scarborough Village West</td>\n    </tr>\n    <tr>\n      <th>9</th>\n      <td>M1N</td>\n      <td>Scarborough</td>\n      <td>Birch Cliff, Cliffside West</td>\n    </tr>\n  </tbody>\n</table>\n</div>", 
                        "text/plain": "  Postcode      Borough                                    Neighbourhood\n0      M1B  Scarborough                                   Rouge, Malvern\n1      M1C  Scarborough           Highland Creek, Rouge Hill, Port Union\n2      M1E  Scarborough                Guildwood, Morningside, West Hill\n3      M1G  Scarborough                                           Woburn\n4      M1H  Scarborough                                        Cedarbrae\n5      M1J  Scarborough                              Scarborough Village\n6      M1K  Scarborough      East Birchmount Park, Ionview, Kennedy Park\n7      M1L  Scarborough                  Clairlea, Golden Mile, Oakridge\n8      M1M  Scarborough  Cliffcrest, Cliffside, Scarborough Village West\n9      M1N  Scarborough                      Birch Cliff, Cliffside West"
                    }, 
                    "output_type": "execute_result"
                }
            ], 
            "source": "# lambda functions to handle the cell operations\nf_neighborhoods = lambda x: \"%s\" % ', '.join(x)\nf_boroughs = lambda x: set(x).pop()\n\ntemp = df_toronto.groupby('Postcode')\ntemp_neighborhoods = temp['Neighbourhood'].apply(f_neighborhoods)\ntemp_boroughs = temp['Borough'].apply(f_boroughs)\n\ncolumns_list = list(zip(temp_boroughs.index, temp_boroughs, temp_neighborhoods))\ndf_toronto_grouped = pd.DataFrame(columns_list)\n\ndf_toronto_grouped.columns = ['Postcode', 'Borough', 'Neighbourhood']\n\ndf_toronto_grouped.head(10)"
        }, 
        {
            "source": "## Print out the final DataFrame shape", 
            "cell_type": "markdown", 
            "metadata": {}
        }, 
        {
            "execution_count": 248, 
            "cell_type": "code", 
            "metadata": {}, 
            "outputs": [
                {
                    "output_type": "stream", 
                    "name": "stdout", 
                    "text": "The final DataFrame shape is (103, 3) \n\n"
                }
            ], 
            "source": "print('The final DataFrame shape is {}'.format(df_toronto_grouped.shape),'\\n')"
        }, 
        {
            "execution_count": null, 
            "cell_type": "code", 
            "metadata": {}, 
            "outputs": [], 
            "source": ""
        }
    ], 
    "metadata": {
        "kernelspec": {
            "display_name": "Python 3.5", 
            "name": "python3", 
            "language": "python"
        }, 
        "language_info": {
            "mimetype": "text/x-python", 
            "nbconvert_exporter": "python", 
            "version": "3.5.5", 
            "name": "python", 
            "file_extension": ".py", 
            "pygments_lexer": "ipython3", 
            "codemirror_mode": {
                "version": 3, 
                "name": "ipython"
            }
        }
    }, 
    "nbformat": 4
}
